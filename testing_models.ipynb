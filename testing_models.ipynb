{
 "cells": [
  {
   "cell_type": "code",
   "execution_count": 7,
   "metadata": {},
   "outputs": [],
   "source": [
    "import numpy as np\n",
    "import pandas as pd\n",
    "from sklearn import preprocessing, neighbors, metrics\n",
    "from sklearn.model_selection import train_test_split\n",
    "from sklearn.linear_model import RidgeClassifier\n",
    "from sklearn.ensemble import RandomForestRegressor"
   ]
  },
  {
   "cell_type": "code",
   "execution_count": 9,
   "metadata": {},
   "outputs": [],
   "source": [
    "# Process data:\n",
    "Train = pd.read_csv(\"election_data_clean_curr3.csv\")\n",
    "Train.fillna(method = \"ffill\", inplace = True) # Fill na values\n",
    "\n",
    "# Develop y arrays\n",
    "# Go through \"Democrats 2016\" and \"Republicans 2016\" to get maximum\n",
    "y = []\n",
    "\n",
    "#for i in range(0, Train.shape[0]):\n",
    "#    sample_R = Train.iloc[i, :]\n",
    "#    winner = 0 if (sample[6] < sample[7]) else 1\n",
    "#    y.append(winner)\n",
    "\n",
    "R_vec = Train.loc[:, \"Republicans 2016\"]\n",
    "D_vec = Train.loc[:, \"Democrats 2016\"]\n",
    "\n",
    "for i in range(0, Train.shape[0]):\n",
    "    winner = 0 if (R_vec[i] < D_vec[i]) else 1\n",
    "    y.append(winner)\n",
    "    \n",
    "# 0 = democrats, 1 = republicans\n",
    "\n",
    "# Trim the dataset\n",
    "\n",
    "# 1. Leave off the first 4 columns\n",
    "trim = Train.iloc[:, 4:]\n",
    "\n",
    "trim.fillna(method = \"ffill\", inplace = True)\n",
    "trim.fillna(method = \"bfill\", inplace = True)\n",
    "\n",
    "trim.drop([\"Republicans 2016\", \"Democrats 2016\"], axis = 1, inplace = True)\n",
    "\n",
    "data = preprocessing.scale(trim)\n",
    "\n",
    "#data.fillna(method = \"ffill\", inplace = True)\n",
    "\n",
    "#print(Train)\n",
    "x_train, x_test, y_train, y_test = train_test_split(data, y, test_size = 0.3)"
   ]
  },
  {
   "cell_type": "code",
   "execution_count": 10,
   "metadata": {},
   "outputs": [
    {
     "data": {
      "text/plain": [
       "0.9206859592711683"
      ]
     },
     "execution_count": 10,
     "metadata": {},
     "output_type": "execute_result"
    }
   ],
   "source": [
    "# kNN\n",
    "model = neighbors.KNeighborsClassifier(n_neighbors = 3)\n",
    "model.fit(x_train, y_train)\n",
    "\n",
    "# Verify the model\n",
    "#y_pred = []\n",
    "#for i in range(0, len(y_test)):\n",
    "y_pred = model.predict(x_test)\n",
    "    \n",
    "#metrics.confusion_matrix(y_test, y_pred, labels = [0, 1])\n",
    "metrics.accuracy_score(y_test, y_pred)"
   ]
  },
  {
   "cell_type": "code",
   "execution_count": 14,
   "metadata": {},
   "outputs": [
    {
     "name": "stdout",
     "output_type": "stream",
     "text": [
      "R^2 value: 0.8572604240885462\n",
      "RMSE Accuracy:  0.5831379955532003\n"
     ]
    }
   ],
   "source": [
    "# Regression Problem\n",
    "\n",
    "# Normalize R_vec and D_vec\n",
    "R_vec_normalized = preprocessing.scale(R_vec)\n",
    "D_vec_normalized = preprocessing.scale(D_vec)\n",
    "\n",
    "y_margins = np.array(R_vec_normalized - D_vec_normalized)\n",
    "\n",
    "x_train, x_test, y_train, y_test = train_test_split(data, y_margins, test_size = 0.3)\n",
    "\n",
    "#clf = RidgeClassifier().fit(x_train, y_train)\n",
    "# RidgeClassifier not working\n",
    "\n",
    "regr = RandomForestRegressor()\n",
    "regr.fit(x_train, y_train)\n",
    "print(\"R^2 value:\", regr.score(x_test, y_test))\n",
    "\n",
    "y_pred = regr.predict(x_test)\n",
    "print(\"RMSE Accuracy: \", metrics.mean_squared_error(y_test, y_pred))"
   ]
  },
  {
   "cell_type": "code",
   "execution_count": null,
   "metadata": {},
   "outputs": [],
   "source": [
    "#XGBoost"
   ]
  },
  {
   "cell_type": "code",
   "execution_count": null,
   "metadata": {},
   "outputs": [],
   "source": [
    "#Basic Neural Net"
   ]
  }
 ],
 "metadata": {
  "kernelspec": {
   "display_name": "Python 3",
   "language": "python",
   "name": "python3"
  },
  "language_info": {
   "codemirror_mode": {
    "name": "ipython",
    "version": 3
   },
   "file_extension": ".py",
   "mimetype": "text/x-python",
   "name": "python",
   "nbconvert_exporter": "python",
   "pygments_lexer": "ipython3",
   "version": "3.8.3"
  }
 },
 "nbformat": 4,
 "nbformat_minor": 4
}
