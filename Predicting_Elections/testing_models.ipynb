{
 "cells": [
  {
   "cell_type": "markdown",
   "metadata": {},
   "source": [
    "# Predicting Presidents\n",
    "### UTK ML, Fall 2020\n",
    "Building machine learning models to predict results from the 2016 US Presidential election.\n",
    "\n"
   ]
  },
  {
   "cell_type": "code",
   "execution_count": 15,
   "metadata": {},
   "outputs": [],
   "source": [
    "import numpy as np\n",
    "import pandas as pd\n",
    "from sklearn import preprocessing, neighbors, metrics\n",
    "from sklearn.model_selection import train_test_split\n",
    "from sklearn.tree import DecisionTreeClassifier\n",
    "from sklearn.ensemble import RandomForestClassifier"
   ]
  },
  {
   "cell_type": "code",
   "execution_count": 16,
   "metadata": {},
   "outputs": [],
   "source": [
    "# Preprocess data:\n",
    "Train = pd.read_csv(\"presidential_election_2016.csv\")\n",
    "Train.fillna(method = \"ffill\", inplace = True) # Fill na values\n",
    "    \n",
    "# 0 = democrats, 1 = republicans\n",
    "\n",
    "trim = Train.iloc[:, 4:] # Leave off the first 4 columns\n",
    "trim.drop(\"Winner\", axis = 1, inplace = True) # Leave off the last column (labels)\n",
    "\n",
    "# Fill in NA values\n",
    "trim.fillna(method = \"ffill\", inplace = True)\n",
    "trim.fillna(method = \"bfill\", inplace = True)\n",
    "\n",
    "# Normalize the data:\n",
    "data = preprocessing.scale(trim)\n",
    "\n",
    "#Get labels list:\n",
    "y = Train.loc[:, \"Winner\"]\n",
    "\n",
    "x_train, x_test, y_train, y_test = train_test_split(data, y, test_size = 0.3)"
   ]
  },
  {
   "cell_type": "markdown",
   "metadata": {},
   "source": [
    "## kNN Classifier\n",
    "- Classifying points based on nearest neighbors\n",
    "- The \"neighborhood\" determined by how many points you want to consider (k)\n",
    "- Non-parameterized model: no equation to learn per se\n",
    "- Computationally expensive"
   ]
  },
  {
   "cell_type": "code",
   "execution_count": 21,
   "metadata": {},
   "outputs": [
    {
     "name": "stdout",
     "output_type": "stream",
     "text": [
      "kNN Score: 0.9260450160771704\n"
     ]
    }
   ],
   "source": [
    "# kNN\n",
    "model = neighbors.KNeighborsClassifier(n_neighbors = 3)\n",
    "model.fit(x_train, y_train)\n",
    "\n",
    "# Verify the model\n",
    "y_pred = model.predict(x_test)\n",
    "    \n",
    "#metrics.confusion_matrix(y_test, y_pred, labels = [0, 1])\n",
    "print(\"kNN Score:\", metrics.accuracy_score(y_test, y_pred))"
   ]
  },
  {
   "cell_type": "markdown",
   "metadata": {},
   "source": [
    "## Decision Tree\n",
    "- Decision splits classify data\n",
    "- Training systematically improves the questions being asked\n",
    "- Works easily with categorical data; can also work with numerical data (regression trees)"
   ]
  },
  {
   "cell_type": "code",
   "execution_count": 22,
   "metadata": {},
   "outputs": [
    {
     "name": "stdout",
     "output_type": "stream",
     "text": [
      "Decision Tree Score: 0.9088960342979635\n"
     ]
    }
   ],
   "source": [
    "# Decision Tree Classifier\n",
    "dt_model = DecisionTreeClassifier()\n",
    "dt_model.fit(x_train, y_train)\n",
    "\n",
    "print(\"Decision Tree Score:\", dt_model.score(x_test, y_test))"
   ]
  },
  {
   "cell_type": "markdown",
   "metadata": {},
   "source": [
    "## Random Forest\n",
    "- Modification of decision trees - more sophisticated\n",
    "- Algorithm:\n",
    "    1. Create n random samples of dataset (with replacement)\n",
    "    2. Train n separate trees\n",
    "    3. When predicting, predict on all trees, take majority vote\n",
    "- Variation in the trees produces better results"
   ]
  },
  {
   "cell_type": "code",
   "execution_count": 23,
   "metadata": {},
   "outputs": [
    {
     "name": "stdout",
     "output_type": "stream",
     "text": [
      "Random Forest Score: 0.92497320471597\n"
     ]
    }
   ],
   "source": [
    "# Random Forest Classifier\n",
    "rf_model = RandomForestClassifier(max_depth = 5)\n",
    "rf_model.fit(x_train, y_train)\n",
    "\n",
    "print(\"Random Forest Score:\", rf_model.score(x_test, y_test))"
   ]
  },
  {
   "cell_type": "code",
   "execution_count": null,
   "metadata": {},
   "outputs": [],
   "source": []
  }
 ],
 "metadata": {
  "kernelspec": {
   "display_name": "Python 3",
   "language": "python",
   "name": "python3"
  },
  "language_info": {
   "codemirror_mode": {
    "name": "ipython",
    "version": 3
   },
   "file_extension": ".py",
   "mimetype": "text/x-python",
   "name": "python",
   "nbconvert_exporter": "python",
   "pygments_lexer": "ipython3",
   "version": "3.8.3"
  }
 },
 "nbformat": 4,
 "nbformat_minor": 4
}
